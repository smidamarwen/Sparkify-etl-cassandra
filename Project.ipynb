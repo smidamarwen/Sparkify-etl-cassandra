{
 "cells": [
  {
   "cell_type": "code",
   "execution_count": 5,
   "id": "initial_id",
   "metadata": {
    "collapsed": true,
    "ExecuteTime": {
     "end_time": "2023-10-08T19:40:36.351273Z",
     "start_time": "2023-10-08T19:40:36.120233Z"
    }
   },
   "outputs": [
    {
     "name": "stdout",
     "output_type": "stream",
     "text": [
      "IP address of Cassandra container 'my-cassandra-container': \n"
     ]
    }
   ],
   "source": [
    "    import docker\n",
    "\n",
    "def get_container_ip(container_name):\n",
    "    client = docker.from_env()\n",
    "    container = client.containers.get(container_name)\n",
    "    return container.attrs['NetworkSettings']['IPAddress']\n",
    "\n",
    "cassandra_container_name = \"my-cassandra-container\"  # Replace with your container name\n",
    "cassandra_ip = get_container_ip(cassandra_container_name)\n",
    "print(f\"IP address of Cassandra container '{cassandra_container_name}': {cassandra_ip}\")"
   ]
  },
  {
   "cell_type": "code",
   "execution_count": null,
   "outputs": [],
   "source": [],
   "metadata": {
    "collapsed": false
   },
   "id": "2471ae251c936f03"
  },
  {
   "cell_type": "code",
   "execution_count": 3,
   "outputs": [
    {
     "name": "stdout",
     "output_type": "stream",
     "text": [
      "1 Alice\n"
     ]
    }
   ],
   "source": [
    "import cassandra\n",
    "\n",
    "from cassandra.cluster import Cluster\n",
    "\n",
    "# Connect to Cassandra\n",
    "cluster = Cluster(['localhost'])  # Use the container name\n",
    "session = cluster.connect()\n",
    " \n",
    "\n",
    "# Execute CQL queries\n",
    "session.execute(\"\"\"CREATE KEYSPACE IF NOT EXISTS my_keyspace WITH replication = {'class': 'SimpleStrategy', 'replication_factor': 1};\"\"\")\n",
    "session.execute('CREATE TABLE IF NOT EXISTS my_keyspace.my_table (id int PRIMARY KEY, name text)')\n",
    "\n",
    "# Insert data\n",
    "session.execute('INSERT INTO my_keyspace.my_table (id, name) VALUES (1, \\'Alice\\')')\n",
    "\n",
    "# Read data\n",
    "rows = session.execute('SELECT * FROM my_keyspace.my_table')\n",
    "for row in rows:\n",
    "  print(row.id, row.name) \n"
   ],
   "metadata": {
    "collapsed": false,
    "ExecuteTime": {
     "end_time": "2023-10-11T09:31:33.267913Z",
     "start_time": "2023-10-11T09:31:33.016916Z"
    }
   },
   "id": "f794f5dde3b6e6b7"
  },
  {
   "cell_type": "code",
   "execution_count": null,
   "outputs": [],
   "source": [],
   "metadata": {
    "collapsed": false
   },
   "id": "5ca889f94efb3c06"
  },
  {
   "cell_type": "code",
   "execution_count": 6,
   "outputs": [
    {
     "name": "stdout",
     "output_type": "stream",
     "text": [
      "[85 31 35 16  1 48 96  5 70 30 49 17  8 95 11 68 86 72 36 19 15 34 73 12\n",
      "  2  4 42 62 21 66 92 27 46  3 97 33 50 28 89 98 93 14 38 32 94 64 52 84\n",
      "  6 81 90 18 44 26  7 51 40 29 83 24 82 22 59 47 39 67 58 61 79 10  9 99\n",
      " 76 74 13 43 60 91 41 53 56 23 25 71 75 69 54 37 20 55 80 63  0 65 78 87\n",
      " 77 88 57 45]\n"
     ]
    }
   ],
   "source": [
    "import numpy as np\n",
    "permuted_indices = np.random.permutation(100)\n",
    "print(permuted_indices)"
   ],
   "metadata": {
    "collapsed": false,
    "ExecuteTime": {
     "end_time": "2023-10-11T10:14:25.845702Z",
     "start_time": "2023-10-11T10:14:25.833668Z"
    }
   },
   "id": "97e999c068e66429"
  },
  {
   "cell_type": "code",
   "execution_count": 7,
   "outputs": [
    {
     "name": "stdout",
     "output_type": "stream",
     "text": [
      "[array([85, 49, 15, 92, 93, 90, 82,  9, 56, 80]), array([31, 17, 34, 27, 14, 18, 22, 99, 23, 63]), array([35,  8, 73, 46, 38, 44, 59, 76, 25,  0]), array([16, 95, 12,  3, 32, 26, 47, 74, 71, 65]), array([ 1, 11,  2, 97, 94,  7, 39, 13, 75, 78]), array([48, 68,  4, 33, 64, 51, 67, 43, 69, 87]), array([96, 86, 42, 50, 52, 40, 58, 60, 54, 77]), array([ 5, 72, 62, 28, 84, 29, 61, 91, 37, 88]), array([70, 36, 21, 89,  6, 83, 79, 41, 20, 57]), array([30, 19, 66, 98, 81, 24, 10, 53, 55, 45])]\n"
     ]
    }
   ],
   "source": [
    "part = []\n",
    "for i in range(10):\n",
    "    part.append(permuted_indices[i::10])\n",
    "    \n",
    "print(part)"
   ],
   "metadata": {
    "collapsed": false,
    "ExecuteTime": {
     "end_time": "2023-10-11T10:15:41.431885Z",
     "start_time": "2023-10-11T10:15:41.417823Z"
    }
   },
   "id": "a13a96529687171e"
  },
  {
   "cell_type": "code",
   "execution_count": null,
   "outputs": [],
   "source": [],
   "metadata": {
    "collapsed": false
   },
   "id": "2391223071229173"
  }
 ],
 "metadata": {
  "kernelspec": {
   "display_name": "Python 3",
   "language": "python",
   "name": "python3"
  },
  "language_info": {
   "codemirror_mode": {
    "name": "ipython",
    "version": 2
   },
   "file_extension": ".py",
   "mimetype": "text/x-python",
   "name": "python",
   "nbconvert_exporter": "python",
   "pygments_lexer": "ipython2",
   "version": "2.7.6"
  }
 },
 "nbformat": 4,
 "nbformat_minor": 5
}
